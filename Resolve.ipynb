{
 "cells": [
  {
   "cell_type": "markdown",
   "metadata": {},
   "source": [
    "### Importa librerie"
   ]
  },
  {
   "cell_type": "code",
   "execution_count": 1,
   "metadata": {},
   "outputs": [
    {
     "name": "stdout",
     "output_type": "stream",
     "text": [
      "Loading...\n",
      "Done\n"
     ]
    }
   ],
   "source": [
    "print(\"Loading...\")\n",
    "\n",
    "import numpy as np\n",
    "from matplotlib import pyplot as plt\n",
    "%matplotlib inline\n",
    "import os\n",
    "import re\n",
    "\n",
    "import cv2\n",
    "from PIL import Image\n",
    "\n",
    "import keras\n",
    "from keras import backend as K\n",
    "from keras.models import load_model\n",
    "from keras.layers import *\n",
    "\n",
    "import tkinter as tk\n",
    "from PIL import Image, ImageDraw\n",
    "\n",
    "K.image_data_format()\n",
    "\n",
    "print(\"Done\")"
   ]
  },
  {
   "cell_type": "markdown",
   "metadata": {},
   "source": [
    "### Carica un modello pre-addestrato"
   ]
  },
  {
   "cell_type": "code",
   "execution_count": 42,
   "metadata": {},
   "outputs": [],
   "source": [
    "# Carica il modello\n",
    "model = load_model('pre-trained-models/eq_solver4.keras')"
   ]
  },
  {
   "cell_type": "markdown",
   "metadata": {},
   "source": [
    "### Carica un'immagine"
   ]
  },
  {
   "cell_type": "code",
   "execution_count": 46,
   "metadata": {},
   "outputs": [
    {
     "data": {
      "text/plain": [
       "<matplotlib.image.AxesImage at 0x1ce53ac9190>"
      ]
     },
     "execution_count": 46,
     "metadata": {},
     "output_type": "execute_result"
    },
    {
     "data": {
      "image/png": "[encoded data removed]",
      "text/plain": [
       "<Figure size 640x480 with 1 Axes>"
      ]
     },
     "metadata": {},
     "output_type": "display_data"
    }
   ],
   "source": [
    "img = cv2.imread('images_for_test/testIMG666.png',cv2.IMREAD_GRAYSCALE)\n",
    "plt.imshow(img)\n"
   ]
  },
  {
   "cell_type": "markdown",
   "metadata": {},
   "source": [
    "#### - Valutazione dell'immagine"
   ]
  },
  {
   "cell_type": "code",
   "execution_count": 47,
   "metadata": {},
   "outputs": [
    {
     "name": "stdout",
     "output_type": "stream",
     "text": [
      "3\n",
      "1\n",
      "[[41, 77, 220, 196], [311, 58, 123, 199]]\n"
     ]
    }
   ],
   "source": [
    "if img is not None:\n",
    "    img=~img\n",
    "    _,thresh=cv2.threshold(img,127,255,cv2.THRESH_BINARY)\n",
    "    ctrs,_=cv2.findContours(thresh,cv2.RETR_EXTERNAL,cv2.CHAIN_APPROX_NONE)\n",
    "    cnt=sorted(ctrs, key=lambda ctr: cv2.boundingRect(ctr)[0])\n",
    "    w=int(28)\n",
    "    h=int(28)\n",
    "    train_data=[]\n",
    "    print(len(cnt))\n",
    "    rects=[]\n",
    "    for c in cnt :\n",
    "        x,y,w,h= cv2.boundingRect(c)\n",
    "        rect=[x,y,w,h]\n",
    "        rects.append(rect)\n",
    "    bool_rect=[]\n",
    "    for r in rects:\n",
    "        l=[]\n",
    "        for rec in rects:\n",
    "            flag=0\n",
    "            if rec!=r:\n",
    "                if r[0]<(rec[0]+rec[2]+10) and rec[0]<(r[0]+r[2]+10) and r[1]<(rec[1]+rec[3]+10) and rec[1]<(r[1]+r[3]+10):\n",
    "                    flag=1\n",
    "                l.append(flag)\n",
    "            if rec==r:\n",
    "                l.append(0)\n",
    "        bool_rect.append(l)\n",
    "    dump_rect=[]\n",
    "    for i in range(0,len(cnt)):\n",
    "        for j in range(0,len(cnt)):\n",
    "            if bool_rect[i][j]==1:\n",
    "                area1=rects[i][2]*rects[i][3]\n",
    "                area2=rects[j][2]*rects[j][3]\n",
    "                if(area1==min(area1,area2)):\n",
    "                    dump_rect.append(rects[i])\n",
    "    print(len(dump_rect)) \n",
    "    final_rect=[i for i in rects if i not in dump_rect]\n",
    "    print(final_rect)\n",
    "    for r in final_rect:\n",
    "        x=r[0]\n",
    "        y=r[1]\n",
    "        w=r[2]\n",
    "        h=r[3]\n",
    "        im_crop =thresh[y:y+h+10,x:x+w+10]\n",
    "        im_resize = cv2.resize(im_crop,(28,28))\n",
    "        im_resize=np.reshape(im_resize,(28,28,1))\n",
    "        train_data.append(im_resize)"
   ]
  },
  {
   "cell_type": "markdown",
   "metadata": {},
   "source": [
    "### Valuta l'espressione e risolvila"
   ]
  },
  {
   "cell_type": "code",
   "execution_count": 48,
   "metadata": {},
   "outputs": [
    {
     "name": "stdout",
     "output_type": "stream",
     "text": [
      "\u001b[1m1/1\u001b[0m \u001b[32m━━━━━━━━━━━━━━━━━━━━\u001b[0m\u001b[37m\u001b[0m \u001b[1m0s\u001b[0m 107ms/step\n",
      "\u001b[1m1/1\u001b[0m \u001b[32m━━━━━━━━━━━━━━━━━━━━\u001b[0m\u001b[37m\u001b[0m \u001b[1m0s\u001b[0m 27ms/step\n",
      "Your Equation: 21\n",
      "The result of the expression is: 21\n"
     ]
    }
   ],
   "source": [
    "equation = ''\n",
    "\n",
    "# Simulazione del processo di lettura dei dati (puoi sostituire train_data e model con i tuoi)\n",
    "for i in range(len(train_data)):\n",
    "    train_data[i] = np.array(train_data[i])\n",
    "    train_data[i] = train_data[i].reshape(1, 28, 28, 1)\n",
    "    result = np.argmax(model.predict(train_data[i]), axis=-1)\n",
    "\n",
    "    for j in range(10):\n",
    "        if result[0] == j:\n",
    "            equation = equation + str(j)\n",
    "\n",
    "    if result[0] == 10:\n",
    "        equation = equation + \"+\"\n",
    "    if result[0] == 11:\n",
    "        equation = equation + \"-\"\n",
    "    if result[0] == 12:\n",
    "        equation = equation + \"*\"\n",
    "    if result[0] == 13:\n",
    "        equation = equation + \"/\"\n",
    "    if result[0] == 14:\n",
    "        equation = equation + \"=\"\n",
    "    if result[0] == 15:\n",
    "        equation = equation + \".\"\n",
    "    if result[0] == 16:\n",
    "        equation = equation + \"x\"\n",
    "    if result[0] == 17:\n",
    "        equation = equation + \"y\"\n",
    "    if result[0] == 18:\n",
    "        equation = equation + \"z\"\n",
    "\n",
    "print(\"Your Equation:\", equation)\n",
    "\n",
    "# Verifica se c'è un segno di uguale nell'equazione\n",
    "if \"=\" in equation:\n",
    "    left_side, right_side = equation.split('=')\n",
    "\n",
    "    print(\"left_side =\", left_side)\n",
    "    print(\"right_side =\", right_side)\n",
    "\n",
    "    # Verifica se la parte sinistra è la definizione di una variabile (ad es. \"y =\")\n",
    "    if left_side.strip() in ['x', 'y', 'z']:  # Variabili considerate\n",
    "        variable_name = left_side.strip()\n",
    "\n",
    "        # Cerchiamo un'assegnazione diretta del valore alla variabile\n",
    "        direct_assignment = re.search(r'(\\d+(\\.\\d+)?)', right_side)\n",
    "        \n",
    "        if direct_assignment:\n",
    "            # Se troviamo un'assegnazione diretta, usiamo quel valore\n",
    "            variable_value = float(direct_assignment.group(1))\n",
    "        else:\n",
    "            # Altrimenti, cerchiamo di risolvere l'equazione per la variabile\n",
    "            try:\n",
    "                # Rimuoviamo la variabile dal lato destro\n",
    "                right_side_without_var = re.sub(r'\\b' + variable_name + r'\\b', '', right_side)\n",
    "                # Risolviamo l'equazione\n",
    "                variable_value = eval(right_side_without_var)\n",
    "            except:\n",
    "                print(f\"Impossibile calcolare il valore di {variable_name}\")\n",
    "                variable_value = None\n",
    "\n",
    "        if variable_value is not None:\n",
    "            print(f\"Il valore calcolato per {variable_name} è: {variable_value}\")\n",
    "\n",
    "            # Ora possiamo usare questo valore nell'espressione originale\n",
    "            right_side_cleaned = re.sub(r'\\d*\\.?\\d*\\*?' + variable_name, variable_name, right_side)\n",
    "            try:\n",
    "                new_expression = right_side_cleaned.replace(variable_name, str(variable_value))\n",
    "                # Sostituiamo il punto decimale con una virgola per evitare problemi con eval()\n",
    "                new_expression = new_expression.replace(',', '.')\n",
    "                final_result = eval(new_expression)\n",
    "                print(f\"Il risultato finale dell'espressione '{right_side_cleaned}' è:\", final_result)\n",
    "            except Exception as e:\n",
    "                print(\"Errore durante la valutazione della nuova espressione:\", e)\n",
    "        else:\n",
    "            print(\"Impossibile calcolare il risultato finale.\")\n",
    "    else:\n",
    "        try:\n",
    "            # Se non è una definizione di variabile, calcola normalmente\n",
    "            result = eval(left_side)\n",
    "            print(\"The result of the equation is:\", result)\n",
    "        except Exception as e:\n",
    "            print(\"Error while evaluating the equation :\", e)\n",
    "\n",
    "else:\n",
    "    # Se non c'è un segno di uguale, calcola direttamente l'espressione\n",
    "    try:\n",
    "        result = eval(equation)\n",
    "        print(\"The result of the expression is:\", result)\n",
    "    except Exception as e:\n",
    "        print(\"Error while evaluating the expression:\", e)"
   ]
  }
 ],
 "metadata": {
  "kernelspec": {
   "display_name": "Python 3",
   "language": "python",
   "name": "python3"
  },
  "language_info": {
   "codemirror_mode": {
    "name": "ipython",
    "version": 3
   },
   "file_extension": ".py",
   "mimetype": "text/x-python",
   "name": "python",
   "nbconvert_exporter": "python",
   "pygments_lexer": "ipython3",
   "version": "3.11.7"
  }
 },
 "nbformat": 4,
 "nbformat_minor": 2
}

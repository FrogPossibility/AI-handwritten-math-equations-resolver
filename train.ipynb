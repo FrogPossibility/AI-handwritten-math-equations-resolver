{
 "cells": [
  {
   "cell_type": "code",
   "execution_count": 1,
   "metadata": {},
   "outputs": [
    {
     "name": "stdout",
     "output_type": "stream",
     "text": [
      "Loading...\n",
      "Done\n"
     ]
    }
   ],
   "source": [
    "print(\"Loading...\")\n",
    "\n",
    "# common libraries\n",
    "import numpy as np\n",
    "import pandas as pd\n",
    "from matplotlib import pyplot as plt\n",
    "import matplotlib.image as mpimg\n",
    "%matplotlib inline\n",
    "import os\n",
    "from os import listdir\n",
    "from os.path import isfile, join\n",
    "\n",
    "# CV and Image\n",
    "import cv2\n",
    "from PIL import Image\n",
    "\n",
    "# pickle\n",
    "import pickle\n",
    "\n",
    "# keras\n",
    "import keras\n",
    "from keras import optimizers\n",
    "from keras import backend as K\n",
    "from keras.models import Model, Sequential, load_model\n",
    "from keras.layers import *\n",
    "from keras.layers import Input, Dense, Dropout, Flatten\n",
    "from keras.layers import Conv2D, MaxPooling2D\n",
    "from keras.utils import to_categorical\n",
    "from tensorflow.keras.utils import plot_model\n",
    "from tensorflow.keras.callbacks import ModelCheckpoint\n",
    "from tensorflow.keras.optimizers import Adam\n",
    "K.image_data_format()\n",
    "\n",
    "print(\"Done\")"
   ]
  },
  {
   "cell_type": "code",
   "execution_count": null,
   "metadata": {},
   "outputs": [],
   "source": [
    "p = \"dataset/\"\n",
    "\n",
    "print(\"These are the folders we'll be working with :\")\n",
    "\n",
    "for f in os.listdir(p):\n",
    "    print(f)"
   ]
  },
  {
   "cell_type": "code",
   "execution_count": 19,
   "metadata": {},
   "outputs": [],
   "source": [
    "def load_images(folder):\n",
    "    \n",
    "    train_data=[]\n",
    "    \n",
    "    for filename in os.listdir(folder):\n",
    "        \n",
    "        if filename != \".directory\" :\n",
    "\n",
    "            image = cv2.imread(os.path.join(folder,filename),cv2.IMREAD_GRAYSCALE)\n",
    "            image = ~image\n",
    "\n",
    "            if image is not None:\n",
    "\n",
    "                ret, thresh = cv2.threshold(image,127,255,cv2.THRESH_BINARY)\n",
    "                contours, hierarchy = cv2.findContours(thresh,cv2.RETR_EXTERNAL,cv2.CHAIN_APPROX_NONE)\n",
    "                contour = sorted(contours, key = lambda ctr: cv2.boundingRect(ctr)[0])\n",
    "\n",
    "                a = int(28)\n",
    "                b = int(28)\n",
    "                maxi = 0\n",
    "\n",
    "                for c in contour:\n",
    "\n",
    "                    x,y,a,b=cv2.boundingRect(c)\n",
    "                    maxi=max(a*b,maxi)\n",
    "\n",
    "                    if maxi==a*b:\n",
    "\n",
    "                        x_max=x\n",
    "                        y_max=y\n",
    "                        w_max=a\n",
    "                        h_max=b\n",
    "\n",
    "                im_crop = thresh[y_max:y_max+h_max+10, x_max:x_max+w_max+10]\n",
    "                im_resize = cv2.resize(im_crop,(28,28))\n",
    "                im_resize = np.reshape(im_resize,(784,1))\n",
    "                train_data.append(im_resize)\n",
    "            \n",
    "    return train_data"
   ]
  },
  {
   "cell_type": "code",
   "execution_count": null,
   "metadata": {},
   "outputs": [],
   "source": [
    "data = []\n",
    "\n",
    "data = load_images(p+\"0\")\n",
    "for i in range(0, len(data)):\n",
    "    data[i] = np.append(data[i], ['0'])\n",
    "print(len(data))"
   ]
  },
  {
   "cell_type": "code",
   "execution_count": null,
   "metadata": {},
   "outputs": [],
   "source": [
    "iter = 0\n",
    "\n",
    "for i in list(os.listdir(p)) :\n",
    "    \n",
    "    if i not in [\"0\", \".directory\"] :\n",
    "    \n",
    "        print(\"Iter :\", iter)\n",
    "        print(\"Working with the\", i, \"folder\")\n",
    "\n",
    "        data_i = load_images(p+i)\n",
    "\n",
    "        if i in [str(k) for k in range(1, 10)] :\n",
    "\n",
    "            for j in range(0, len(data_i)):\n",
    "                data_i[j] = np.append(data_i[j], [i])\n",
    "\n",
    "        if i == \"add\" :\n",
    "\n",
    "            for j in range(0, len(data_i)):\n",
    "                data_i[j] = np.append(data_i[j], [\"10\"])\n",
    "\n",
    "        if i == \"sub\" :\n",
    "\n",
    "            for j in range(0, len(data_i)):\n",
    "                data_i[j] = np.append(data_i[j], [\"11\"])\n",
    "\n",
    "\n",
    "        if i == \"mul\" :\n",
    "\n",
    "            for j in range(0, len(data_i)):\n",
    "                data_i[j] = np.append(data_i[j], [\"12\"])\n",
    "\n",
    "        if i == \"div\" :\n",
    "\n",
    "            for j in range(0, len(data_i)):\n",
    "                data_i[j] = np.append(data_i[j], [\"13\"])\n",
    "\n",
    "        if i == \"eq\" :\n",
    "\n",
    "            for j in range(0, len(data_i)):\n",
    "                data_i[j] = np.append(data_i[j], [\"14\"])                \n",
    "\n",
    "        if i == \"dec\" :\n",
    "\n",
    "            for j in range(0, len(data_i)):\n",
    "                data_i[j] = np.append(data_i[j], [\"15\"])\n",
    "\n",
    "        if i == \"x\" :\n",
    "\n",
    "            for j in range(0, len(data_i)):\n",
    "                data_i[j] = np.append(data_i[j], [\"16\"])\n",
    "\n",
    "        if i == \"y\" :\n",
    "\n",
    "            for j in range(0, len(data_i)):\n",
    "                data_i[j] = np.append(data_i[j], [\"17\"]) \n",
    "\n",
    "\n",
    "        if i == \"z\" :\n",
    "\n",
    "            for j in range(0, len(data_i)):\n",
    "                data_i[j] = np.append(data_i[j], [\"18\"]) \n",
    "\n",
    "\n",
    "        data = np.concatenate((data, data_i))\n",
    "        print(len(data))\n",
    "\n",
    "        print()\n",
    "\n",
    "        iter += 1"
   ]
  },
  {
   "cell_type": "code",
   "execution_count": null,
   "metadata": {},
   "outputs": [],
   "source": [
    "df=pd.DataFrame(data,index=None)\n",
    "df.to_csv('train_handwritten.csv',index=False)\n",
    "\n",
    "data = pd.read_csv('train_handwritten.csv',index_col=False)\n",
    "labels = data[['784']]\n",
    "\n",
    "data.drop(data.columns[[784]],axis=1,inplace=True)\n",
    "data.head()"
   ]
  },
  {
   "cell_type": "code",
   "execution_count": null,
   "metadata": {},
   "outputs": [],
   "source": [
    "np.random.seed(1212)\n",
    "labels=np.array(labels)\n",
    "cat=to_categorical(labels,num_classes=19)\n",
    "cat[0]"
   ]
  },
  {
   "cell_type": "code",
   "execution_count": null,
   "metadata": {},
   "outputs": [],
   "source": [
    "temp=data.to_numpy()\n",
    "X_train = temp.reshape(temp.shape[0], 28, 28, 1)\n",
    "X_train.shape"
   ]
  },
  {
   "cell_type": "code",
   "execution_count": 25,
   "metadata": {},
   "outputs": [],
   "source": [
    "l=[]\n",
    "for i in range(X_train.shape[0]):\n",
    "    l.append(np.array(data[i:i+1]).reshape(1,28,28))\n",
    "\n",
    "np.random.seed(7)"
   ]
  },
  {
   "cell_type": "code",
   "execution_count": null,
   "metadata": {},
   "outputs": [],
   "source": [
    "from keras.models import Sequential\n",
    "from keras.layers import Conv2D, MaxPooling2D, Dropout, Flatten, Dense, BatchNormalization\n",
    "\n",
    "model = Sequential()\n",
    "\n",
    "# Primo strato convoluzionale\n",
    "model.add(Conv2D(64, (3, 3), input_shape=(28, 28, 1), activation='relu', padding='same'))\n",
    "model.add(BatchNormalization())\n",
    "model.add(MaxPooling2D(pool_size=(2, 2)))\n",
    "\n",
    "# Secondo strato convoluzionale\n",
    "model.add(Conv2D(128, (3, 3), activation='relu', padding='same'))\n",
    "model.add(BatchNormalization())\n",
    "model.add(MaxPooling2D(pool_size=(2, 2)))\n",
    "\n",
    "# Terzo strato convoluzionale\n",
    "model.add(Conv2D(256, (3, 3), activation='relu', padding='same'))\n",
    "model.add(BatchNormalization())\n",
    "model.add(MaxPooling2D(pool_size=(2, 2)))\n",
    "model.add(Dropout(0.3))\n",
    "\n",
    "# Flattening\n",
    "model.add(Flatten())\n",
    "\n",
    "# Strati densi\n",
    "model.add(Dense(256, activation='relu'))\n",
    "model.add(Dropout(0.5))\n",
    "model.add(Dense(128, activation='relu'))\n",
    "model.add(Dense(19, activation='softmax'))\n",
    "\n",
    "model.compile(optimizer='adam', loss='categorical_crossentropy', metrics=['accuracy'])"
   ]
  },
  {
   "cell_type": "code",
   "execution_count": null,
   "metadata": {},
   "outputs": [],
   "source": [
    "model.summary()"
   ]
  },
  {
   "cell_type": "code",
   "execution_count": null,
   "metadata": {},
   "outputs": [],
   "source": [
    "plot_model(model, show_layer_names=True)"
   ]
  },
  {
   "cell_type": "code",
   "execution_count": null,
   "metadata": {},
   "outputs": [],
   "source": [
    "checkpoint = ModelCheckpoint(\"eq_solver.keras\", monitor='accuracy', verbose=1, save_best_only=True)\n",
    "model.compile(loss=\"categorical_crossentropy\", optimizer=Adam(learning_rate=0.001), metrics=['accuracy'])\n",
    "nn = model.fit(X_train, cat, epochs=500, batch_size=256, shuffle=True, verbose=1, callbacks=[checkpoint]).history"
   ]
  },
  {
   "cell_type": "code",
   "execution_count": null,
   "metadata": {},
   "outputs": [],
   "source": [
    "plt.plot(nn['loss'])\n",
    "plt.plot(nn['accuracy'])\n",
    "plt.title('model loss')\n",
    "plt.ylabel('loss and accuracy')\n",
    "plt.xlabel('epoch')\n",
    "plt.legend(['train_loss', 'train_accuracy'], loc='upper right')"
   ]
  }
 ],
 "metadata": {
  "kernelspec": {
   "display_name": "Python 3",
   "language": "python",
   "name": "python3"
  },
  "language_info": {
   "codemirror_mode": {
    "name": "ipython",
    "version": 3
   },
   "file_extension": ".py",
   "mimetype": "text/x-python",
   "name": "python",
   "nbconvert_exporter": "python",
   "pygments_lexer": "ipython3",
   "version": "3.11.7"
  }
 },
 "nbformat": 4,
 "nbformat_minor": 2
}
